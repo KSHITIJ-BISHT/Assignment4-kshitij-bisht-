{
 "cells": [
  {
   "cell_type": "code",
   "execution_count": null,
   "metadata": {},
   "outputs": [],
   "source": []
  },
  {
   "cell_type": "code",
   "execution_count": 53,
   "metadata": {},
   "outputs": [],
   "source": [
    "\n"
   ]
  },
  {
   "cell_type": "code",
   "execution_count": 54,
   "metadata": {},
   "outputs": [],
   "source": []
  },
  {
   "cell_type": "code",
   "execution_count": null,
   "metadata": {},
   "outputs": [],
   "source": []
  },
  {
   "cell_type": "code",
   "execution_count": null,
   "metadata": {},
   "outputs": [],
   "source": []
  },
  {
   "cell_type": "code",
   "execution_count": null,
   "metadata": {},
   "outputs": [],
   "source": []
  },
  {
   "cell_type": "code",
   "execution_count": 236,
   "metadata": {},
   "outputs": [
    {
     "data": {
      "text/plain": [
       "<matplotlib.axes._subplots.AxesSubplot at 0x19732fb33c8>"
      ]
     },
     "execution_count": 236,
     "metadata": {},
     "output_type": "execute_result"
    },
    {
     "data": {
      "image/png": "[encoded data removed]",
      "text/plain": [
       "<Figure size 1296x504 with 1 Axes>"
      ]
     },
     "metadata": {
      "needs_background": "light"
     },
     "output_type": "display_data"
    }
   ],
   "source": [
    "#1\n",
    "import pandas as pd\n",
    "df_winner=pd.read_csv('matches.csv')\n",
    "result=df_winner[df_winner['win_by_wickets']>0]\n",
    "from collections import Counter\n",
    "result_winner=result['winner'].value_counts()\n",
    "result_winner.plot(figsize=(18,7))\n"
   ]
  },
  {
   "cell_type": "code",
   "execution_count": null,
   "metadata": {},
   "outputs": [],
   "source": []
  },
  {
   "cell_type": "code",
   "execution_count": null,
   "metadata": {},
   "outputs": [],
   "source": []
  },
  {
   "cell_type": "code",
   "execution_count": 240,
   "metadata": {},
   "outputs": [
    {
     "data": {
      "text/plain": [
       "YK Pathan    11\n",
       "Name: player_of_match, dtype: int64"
      ]
     },
     "execution_count": 240,
     "metadata": {},
     "output_type": "execute_result"
    }
   ],
   "source": [
    "#3\n",
    "import pandas as pd\n",
    "df_chasematch=pd.read_csv('matches.csv')\n",
    "chase_match=df_chasematch[df_chasematch['win_by_wickets']>0]\n",
    "from collections import Counter\n",
    "result_chasematch=chase_match['player_of_match'].value_counts()\n",
    "result_chasematch[:1]\n"
   ]
  },
  {
   "cell_type": "code",
   "execution_count": 239,
   "metadata": {},
   "outputs": [
    {
     "data": {
      "text/plain": [
       "V Kohli    1369\n",
       "Name: batsman, dtype: int64"
      ]
     },
     "execution_count": 239,
     "metadata": {},
     "output_type": "execute_result"
    }
   ],
   "source": [
    "#4\n",
    "import pandas as pd\n",
    "df_dotballs=pd.read_csv('deliveries.csv')\n",
    "dot_balls=df_dotballs[df_dotballs['total_runs']==0]\n",
    "from collections import Counter\n",
    "result_dotballs=dot_balls['batsman'].value_counts()\n",
    "result_dotballs[:1]\n"
   ]
  },
  {
   "cell_type": "code",
   "execution_count": null,
   "metadata": {},
   "outputs": [],
   "source": []
  },
  {
   "cell_type": "code",
   "execution_count": 153,
   "metadata": {},
   "outputs": [
    {
     "data": {
      "text/plain": [
       "SK Raina    8\n",
       "Name: player_dismissed, dtype: int64"
      ]
     },
     "execution_count": 153,
     "metadata": {},
     "output_type": "execute_result"
    }
   ],
   "source": [
    "#7\n",
    "import pandas as pd\n",
    "df_stumped=pd.read_csv('deliveries.csv')\n",
    "stumped=df_stumped[df_stumped['dismissal_kind']=='stumped']\n",
    "from collections import Counter\n",
    "result_stumped=stumped['player_dismissed'].value_counts()\n",
    "result_stumped[:1]\n"
   ]
  },
  {
   "cell_type": "code",
   "execution_count": 281,
   "metadata": {},
   "outputs": [
    {
     "data": {
      "text/plain": [
       "KD Karthik    16\n",
       "Name: non_striker, dtype: int64"
      ]
     },
     "execution_count": 281,
     "metadata": {},
     "output_type": "execute_result"
    }
   ],
   "source": [
    "\n",
    "import pandas as pd\n",
    "df_runout=pd.read_csv('deliveries.csv')\n",
    "runout=df_runout[df_runout['dismissal_kind']=='run out']\n",
    "from collections import Counter\n",
    "result_nonstriker=runout['non_striker'].value_counts()\n",
    "result_nonstriker[:1]\n"
   ]
  },
  {
   "cell_type": "code",
   "execution_count": 169,
   "metadata": {},
   "outputs": [
    {
     "name": "stdout",
     "output_type": "stream",
     "text": [
      "maximum number of 1: Harbhajan Singh    1549\n",
      "Name: bowler, dtype: int64\n",
      "maximum number of 2: DJ Bravo    258\n",
      "Name: bowler, dtype: int64\n",
      "maximum number of 3: P Kumar    18\n",
      "Name: bowler, dtype: int64\n",
      "maximum number of 4: UT Yadav    389\n",
      "Name: bowler, dtype: int64\n",
      "maximum number of 6: PP Chawla    171\n",
      "Name: bowler, dtype: int64\n"
     ]
    }
   ],
   "source": [
    "#6\n",
    "from collections import Counter\n",
    "import pandas as pd\n",
    "df_runs=pd.read_csv('deliveries.csv')\n",
    "runs=df_runs[df_runs['total_runs']==1]\n",
    "result_runs=runs['bowler'].value_counts()\n",
    "print(\"maximum number of 1:\",result_runs[:1])\n",
    "\n",
    "runs=df_runs[df_runs['total_runs']==2]\n",
    "result_runs=runs['bowler'].value_counts()\n",
    "print(\"maximum number of 2:\",result_runs[:1])\n",
    "\n",
    "runs=df_runs[df_runs['total_runs']==3]\n",
    "result_runs=runs['bowler'].value_counts()\n",
    "print(\"maximum number of 3:\",result_runs[:1])\n",
    "\n",
    "runs=df_runs[df_runs['total_runs']==4]\n",
    "result_runs=runs['bowler'].value_counts()\n",
    "print(\"maximum number of 4:\",result_runs[:1])\n",
    "\n",
    "runs=df_runs[df_runs['total_runs']==6]\n",
    "result_runs=runs['bowler'].value_counts()\n",
    "print(\"maximum number of 6:\",result_runs[:1])\n"
   ]
  },
  {
   "cell_type": "code",
   "execution_count": null,
   "metadata": {},
   "outputs": [],
   "source": []
  },
  {
   "cell_type": "code",
   "execution_count": null,
   "metadata": {},
   "outputs": [],
   "source": []
  },
  {
   "cell_type": "code",
   "execution_count": null,
   "metadata": {},
   "outputs": [],
   "source": []
  },
  {
   "cell_type": "code",
   "execution_count": 231,
   "metadata": {},
   "outputs": [
    {
     "data": {
      "text/plain": [
       "<matplotlib.axes._subplots.AxesSubplot at 0x1973184c908>"
      ]
     },
     "execution_count": 231,
     "metadata": {},
     "output_type": "execute_result"
    },
    {
     "data": {
      "image/png": "[encoded data removed]",
      "text/plain": [
       "<Figure size 432x288 with 1 Axes>"
      ]
     },
     "metadata": {
      "needs_background": "light"
     },
     "output_type": "display_data"
    }
   ],
   "source": [
    "#1 b\n",
    "import pandas as pd\n",
    "df_looser=pd.read_csv('matches.csv')\n",
    "result_looser=df_looser[df_looser['win_by_wickets']>0]\n",
    "#result1=result.groupby('winner')\n",
    "from collections import Counter\n",
    "result_looser=result_looser['winner'].value_counts()\n",
    "result_looser.plot()\n",
    "#result_winner[:1]"
   ]
  },
  {
   "cell_type": "code",
   "execution_count": null,
   "metadata": {},
   "outputs": [],
   "source": []
  },
  {
   "cell_type": "code",
   "execution_count": 199,
   "metadata": {},
   "outputs": [
    {
     "name": "stdout",
     "output_type": "stream",
     "text": [
      "team ,extra runs: Mumbai Indians    1267\n",
      "Name: bowling_team, dtype: int64\n"
     ]
    }
   ],
   "source": [
    "#which team givies maximum extra runs in IPLs\n",
    "import pandas as pd\n",
    "df_extras=pd.read_csv('deliveries.csv')\n",
    "result_extras=df_extras[df_extras['extra_runs']>0]\n",
    "from collections import Counter\n",
    "result_extras=result_extras['bowling_team'].value_counts()\n",
    "print(\"team ,extra runs:\",result_extras[:1])\n",
    "\n",
    "\n"
   ]
  },
  {
   "cell_type": "code",
   "execution_count": null,
   "metadata": {},
   "outputs": [],
   "source": []
  },
  {
   "cell_type": "code",
   "execution_count": 197,
   "metadata": {},
   "outputs": [
    {
     "data": {
      "text/plain": [
       "Mumbai Indians    57\n",
       "Name: winner, dtype: int64"
      ]
     },
     "execution_count": 197,
     "metadata": {},
     "output_type": "execute_result"
    }
   ],
   "source": [
    "#which team is best defender\n",
    "import pandas as pd\n",
    "df_defender=pd.read_csv('matches.csv')\n",
    "result_defender=df_defender[df_defender['win_by_runs']>0]\n",
    "#result1=result.groupby('winner')\n",
    "from collections import Counter\n",
    "result_defender=result_defender['winner'].value_counts()\n",
    "result_defender[:1]\n"
   ]
  },
  {
   "cell_type": "code",
   "execution_count": null,
   "metadata": {},
   "outputs": [],
   "source": []
  },
  {
   "cell_type": "code",
   "execution_count": 204,
   "metadata": {},
   "outputs": [
    {
     "data": {
      "text/plain": [
       "Harbhajan Singh    3408\n",
       "Name: bowler, dtype: int64"
      ]
     },
     "execution_count": 204,
     "metadata": {},
     "output_type": "execute_result"
    }
   ],
   "source": [
    "#bowler with maximum legby runs\n",
    "import pandas as pd\n",
    "df_legby=pd.read_csv('deliveries.csv')\n",
    "result_legby=df_legby[df_legby['legbye_runs']==0]\n",
    "#result1=result.groupby('winner')\n",
    "from collections import Counter\n",
    "result_legby=result_legby['bowler'].value_counts()\n",
    "result_legby[:1]"
   ]
  },
  {
   "cell_type": "code",
   "execution_count": null,
   "metadata": {},
   "outputs": [],
   "source": []
  },
  {
   "cell_type": "code",
   "execution_count": 220,
   "metadata": {},
   "outputs": [
    {
     "data": {
      "text/plain": [
       "56           Kolkata Knight Riders\n",
       "99                 Kings XI Punjab\n",
       "102            Chennai Super Kings\n",
       "119               Delhi Daredevils\n",
       "122          Kolkata Knight Riders\n",
       "148            Chennai Super Kings\n",
       "251           Kochi Tuskers Kerala\n",
       "280          Kolkata Knight Riders\n",
       "290    Royal Challengers Bangalore\n",
       "488            Sunrisers Hyderabad\n",
       "536            Sunrisers Hyderabad\n",
       "567    Royal Challengers Bangalore\n",
       "597        Rising Pune Supergiants\n",
       "620          Kolkata Knight Riders\n",
       "624        Rising Pune Supergiants\n",
       "625    Royal Challengers Bangalore\n",
       "641               Rajasthan Royals\n",
       "653                Kings XI Punjab\n",
       "667               Delhi Daredevils\n",
       "Name: winner, dtype: object"
      ]
     },
     "execution_count": 220,
     "metadata": {},
     "output_type": "execute_result"
    }
   ],
   "source": [
    "#winnner of the matches having dl applied\n",
    "\n",
    "import pandas as pd\n",
    "df_dl=pd.read_csv('matches.csv')\n",
    "result_dl=df_dl[df_dl['dl_applied']==1]\n",
    "result_dl.drop('id',axis=1)\n",
    "result_dl['winner']"
   ]
  },
  {
   "cell_type": "code",
   "execution_count": null,
   "metadata": {},
   "outputs": [],
   "source": []
  },
  {
   "cell_type": "code",
   "execution_count": 310,
   "metadata": {},
   "outputs": [
    {
     "name": "stdout",
     "output_type": "stream",
     "text": [
      "STR Binny\n",
      "S Aravind\n",
      "YS Chahal\n",
      "MC Henriques\n",
      "DJ Hooda\n",
      "S Dhawan\n",
      "CH Gayle\n",
      "Mandeep Singh\n",
      "A Choudhary\n",
      "SR Watson\n",
      "KM Jadhav\n",
      "TS Mills\n",
      "Yuvraj Singh\n",
      "DA Warner\n",
      "Sachin Baby\n",
      "BCJ Cutting\n",
      "TM Head\n",
      "KA Pollard\n",
      "MS Dhoni\n",
      "AT Rayudu\n",
      "KH Pandya\n",
      "AM Rahane\n",
      "RG Sharma\n",
      "N Rana\n",
      "PA Patel\n",
      "JC Buttler\n",
      "HH Pandya\n",
      "MA Agarwal\n",
      "SPD Smith\n",
      "BA Stokes\n",
      "TG Southee\n",
      "JJ Roy\n",
      "BB McCullum\n",
      "AJ Finch\n",
      "G Gambhir\n",
      "SK Raina\n",
      "KD Karthik\n",
      "CA Lynn\n",
      "DA Miller\n",
      "M Vohra\n",
      "HM Amla\n",
      "MS Dhoni\n",
      "WP Saha\n",
      "MK Tiwary\n",
      "BA Stokes\n",
      "AM Rahane\n",
      "SPD Smith\n",
      "DT Christian\n",
      "MA Agarwal\n",
      "AR Patel\n",
      "GJ Maxwell\n",
      "STR Binny\n",
      "CH Morris\n",
      "RR Pant\n",
      "CR Brathwaite\n",
      "PJ Cummins\n",
      "Z Khan\n",
      "SW Billings\n",
      "Vishnu Vinod\n",
      "Mandeep Singh\n",
      "CH Gayle\n",
      "P Negi\n",
      "AP Tare\n",
      "SR Watson\n",
      "KM Jadhav\n",
      "SV Samson\n",
      "KK Nair\n",
      "A Mishra\n",
      "Iqbal Abdulla\n"
     ]
    }
   ],
   "source": [
    "#batsman which came to crease but never got a chance to face a ball\n",
    "\n",
    "import pandas as pd\n",
    "def balls_played(x):\n",
    "    batsman = set(x['batsman'])\n",
    "    non_striker = set(x['non_striker'])\n",
    "    return non_striker.intersection(batsman)\n",
    "\n",
    "df = pd.read_csv(\"deliveries.csv\")\n",
    "\n",
    "df_face_no_ball=df[['match_id','batsman','non_striker']]\n",
    "result = df_face_no_ball.groupby('match_id').agg(balls_played).head()[['non_striker']]\n",
    "for i in list(result['non_striker']):\n",
    "    for j in i:\n",
    "        print(j)\n"
   ]
  },
  {
   "cell_type": "code",
   "execution_count": null,
   "metadata": {},
   "outputs": [],
   "source": []
  },
  {
   "cell_type": "code",
   "execution_count": 300,
   "metadata": {},
   "outputs": [
    {
     "name": "stdout",
     "output_type": "stream",
     "text": [
      "HDPK Dharmasena          73\n",
      "Asad Rauf                51\n",
      "S Ravi                   49\n",
      "AK Chaudhary             43\n",
      "Aleem Dar                38\n",
      "BF Bowden                37\n",
      "BR Doctrove              34\n",
      "M Erasmus                32\n",
      "RE Koertzen              20\n",
      "Nitin Menon              20\n",
      "S Asnani                 19\n",
      "JD Cloete                16\n",
      "C Shamshuddin            16\n",
      "CB Gaffaney              14\n",
      "BG Jerling               13\n",
      "KN Ananthapadmanabhan    13\n",
      "AY Dandekar              13\n",
      "Bruce Oxenford           12\n",
      "NJ Llong                 12\n",
      "RK Illingworth           11\n",
      "Marais Erasmus           11\n",
      "VA Kulkarni              11\n",
      "SS Hazare                11\n",
      "A Nand Kishore           11\n",
      "S Das                    10\n",
      "Nigel Llong              10\n",
      "K Hariharan              10\n",
      "Anil Chaudhary           10\n",
      "MR Benson                10\n",
      "DJ Harper                 9\n",
      "                         ..\n",
      "BNJ Oxenford              7\n",
      "IL Howell                 7\n",
      "GAV Baxter                7\n",
      "O Nandan                  6\n",
      "Kumar Dharmasena          6\n",
      "SJ Davis                  6\n",
      "Chris Gaffaney            5\n",
      "Ian Gould                 5\n",
      "SD Fry                    5\n",
      "CK Nandan                 5\n",
      "Rod Tucker                5\n",
      "SK Tarapore               5\n",
      "YC Barde                  4\n",
      "Yeshwant Barde            3\n",
      "Vineet Kulkarni           3\n",
      "A Deshmukh                3\n",
      "K Bharatan                3\n",
      "PR Reiffel                3\n",
      "Anil Dandekar             3\n",
      "AM Saheba                 3\n",
      "AV Jayaprakash            2\n",
      "PG Pathak                 2\n",
      "K Ananthapadmanabhan      2\n",
      "K Srinath                 2\n",
      "SL Shastri                1\n",
      "A Nanda Kishore           1\n",
      "Nanda Kishore             1\n",
      "SJA Taufel                1\n",
      "Ulhas Gandhe              1\n",
      "Sundaram Ravi             1\n",
      "Name: umpire1, Length: 61, dtype: int64\n"
     ]
    }
   ],
   "source": [
    "#number of matched umpired by umpire1\n",
    "import pandas as pd\n",
    "resultump=pd.read_csv('matches.csv')\n",
    "\n",
    "from collections import Counter\n",
    "resultump=resultump['umpire1'].value_counts()\n",
    "print(resultump)\n"
   ]
  }
 ],
 "metadata": {
  "kernelspec": {
   "display_name": "Python 3",
   "language": "python",
   "name": "python3"
  },
  "language_info": {
   "codemirror_mode": {
    "name": "ipython",
    "version": 3
   },
   "file_extension": ".py",
   "mimetype": "text/x-python",
   "name": "python",
   "nbconvert_exporter": "python",
   "pygments_lexer": "ipython3",
   "version": "3.7.3"
  }
 },
 "nbformat": 4,
 "nbformat_minor": 2
}
